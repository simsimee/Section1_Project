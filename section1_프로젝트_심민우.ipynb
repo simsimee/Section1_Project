{
  "nbformat": 4,
  "nbformat_minor": 0,
  "metadata": {
    "colab": {
      "name": "section1_프로젝트_심민우.ipynb",
      "provenance": [],
      "collapsed_sections": []
    },
    "kernelspec": {
      "name": "python3",
      "display_name": "Python 3"
    },
    "language_info": {
      "name": "python"
    }
  },
  "cells": [
    {
      "cell_type": "markdown",
      "metadata": {
        "id": "ZdRzzLzYiz4_"
      },
      "source": [
        "## 다음 분기에는 어떤 게임을 출시하는게 좋을까요?"
      ]
    },
    {
      "cell_type": "markdown",
      "metadata": {
        "id": "t7_cn-NpjmSz"
      },
      "source": [
        "1. EDA 진행. 데이터의 결측치와 정보들을 확인해봄."
      ]
    },
    {
      "cell_type": "code",
      "metadata": {
        "colab": {
          "base_uri": "https://localhost:8080/",
          "height": 419
        },
        "id": "VihuoGuMvRgt",
        "outputId": "a8c5d6ed-7534-4204-ea5f-7f0b848a4d69"
      },
      "source": [
        "import pandas as pd\n",
        "\n",
        "df = pd.read_csv('vgames2.csv')\n",
        "df"
      ],
      "execution_count": 75,
      "outputs": [
        {
          "output_type": "execute_result",
          "data": {
            "text/html": [
              "<div>\n",
              "<style scoped>\n",
              "    .dataframe tbody tr th:only-of-type {\n",
              "        vertical-align: middle;\n",
              "    }\n",
              "\n",
              "    .dataframe tbody tr th {\n",
              "        vertical-align: top;\n",
              "    }\n",
              "\n",
              "    .dataframe thead th {\n",
              "        text-align: right;\n",
              "    }\n",
              "</style>\n",
              "<table border=\"1\" class=\"dataframe\">\n",
              "  <thead>\n",
              "    <tr style=\"text-align: right;\">\n",
              "      <th></th>\n",
              "      <th>Unnamed: 0</th>\n",
              "      <th>Name</th>\n",
              "      <th>Platform</th>\n",
              "      <th>Year</th>\n",
              "      <th>Genre</th>\n",
              "      <th>Publisher</th>\n",
              "      <th>NA_Sales</th>\n",
              "      <th>EU_Sales</th>\n",
              "      <th>JP_Sales</th>\n",
              "      <th>Other_Sales</th>\n",
              "    </tr>\n",
              "  </thead>\n",
              "  <tbody>\n",
              "    <tr>\n",
              "      <th>0</th>\n",
              "      <td>1</td>\n",
              "      <td>Candace Kane's Candy Factory</td>\n",
              "      <td>DS</td>\n",
              "      <td>2008.0</td>\n",
              "      <td>Action</td>\n",
              "      <td>Destineer</td>\n",
              "      <td>0.04</td>\n",
              "      <td>0</td>\n",
              "      <td>0</td>\n",
              "      <td>0</td>\n",
              "    </tr>\n",
              "    <tr>\n",
              "      <th>1</th>\n",
              "      <td>2</td>\n",
              "      <td>The Munchables</td>\n",
              "      <td>Wii</td>\n",
              "      <td>2009.0</td>\n",
              "      <td>Action</td>\n",
              "      <td>Namco Bandai Games</td>\n",
              "      <td>0.17</td>\n",
              "      <td>0</td>\n",
              "      <td>0</td>\n",
              "      <td>0.01</td>\n",
              "    </tr>\n",
              "    <tr>\n",
              "      <th>2</th>\n",
              "      <td>3</td>\n",
              "      <td>Otome wa Oanesama Boku ni Koi Shiteru Portable</td>\n",
              "      <td>PSP</td>\n",
              "      <td>2010.0</td>\n",
              "      <td>Adventure</td>\n",
              "      <td>Alchemist</td>\n",
              "      <td>0</td>\n",
              "      <td>0</td>\n",
              "      <td>0.02</td>\n",
              "      <td>0</td>\n",
              "    </tr>\n",
              "    <tr>\n",
              "      <th>3</th>\n",
              "      <td>4</td>\n",
              "      <td>Deal or No Deal: Special Edition</td>\n",
              "      <td>DS</td>\n",
              "      <td>2010.0</td>\n",
              "      <td>Misc</td>\n",
              "      <td>Zoo Games</td>\n",
              "      <td>0.04</td>\n",
              "      <td>0</td>\n",
              "      <td>0</td>\n",
              "      <td>0</td>\n",
              "    </tr>\n",
              "    <tr>\n",
              "      <th>4</th>\n",
              "      <td>5</td>\n",
              "      <td>Ben 10 Ultimate Alien: Cosmic Destruction</td>\n",
              "      <td>PS3</td>\n",
              "      <td>2010.0</td>\n",
              "      <td>Platform</td>\n",
              "      <td>D3Publisher</td>\n",
              "      <td>0.12</td>\n",
              "      <td>0.09</td>\n",
              "      <td>0</td>\n",
              "      <td>0.04</td>\n",
              "    </tr>\n",
              "    <tr>\n",
              "      <th>...</th>\n",
              "      <td>...</td>\n",
              "      <td>...</td>\n",
              "      <td>...</td>\n",
              "      <td>...</td>\n",
              "      <td>...</td>\n",
              "      <td>...</td>\n",
              "      <td>...</td>\n",
              "      <td>...</td>\n",
              "      <td>...</td>\n",
              "      <td>...</td>\n",
              "    </tr>\n",
              "    <tr>\n",
              "      <th>16593</th>\n",
              "      <td>16594</td>\n",
              "      <td>Ice Age 2: The Meltdown</td>\n",
              "      <td>GC</td>\n",
              "      <td>2006.0</td>\n",
              "      <td>Platform</td>\n",
              "      <td>Vivendi Games</td>\n",
              "      <td>0.15</td>\n",
              "      <td>0.04</td>\n",
              "      <td>0</td>\n",
              "      <td>0.01</td>\n",
              "    </tr>\n",
              "    <tr>\n",
              "      <th>16594</th>\n",
              "      <td>16595</td>\n",
              "      <td>Rainbow Islands: Revolution</td>\n",
              "      <td>PSP</td>\n",
              "      <td>2005.0</td>\n",
              "      <td>Action</td>\n",
              "      <td>Rising Star Games</td>\n",
              "      <td>0.01</td>\n",
              "      <td>0</td>\n",
              "      <td>0</td>\n",
              "      <td>0</td>\n",
              "    </tr>\n",
              "    <tr>\n",
              "      <th>16595</th>\n",
              "      <td>16596</td>\n",
              "      <td>NBA 2K16</td>\n",
              "      <td>PS3</td>\n",
              "      <td>2015.0</td>\n",
              "      <td>Sports</td>\n",
              "      <td>Take-Two Interactive</td>\n",
              "      <td>0.44</td>\n",
              "      <td>0.19</td>\n",
              "      <td>0.03</td>\n",
              "      <td>0.13</td>\n",
              "    </tr>\n",
              "    <tr>\n",
              "      <th>16596</th>\n",
              "      <td>16597</td>\n",
              "      <td>Toukiden: The Age of Demons</td>\n",
              "      <td>PSV</td>\n",
              "      <td>2013.0</td>\n",
              "      <td>Action</td>\n",
              "      <td>Tecmo Koei</td>\n",
              "      <td>0.05</td>\n",
              "      <td>0.05</td>\n",
              "      <td>0.25</td>\n",
              "      <td>0.03</td>\n",
              "    </tr>\n",
              "    <tr>\n",
              "      <th>16597</th>\n",
              "      <td>16598</td>\n",
              "      <td>The King of Fighters '95</td>\n",
              "      <td>PS</td>\n",
              "      <td>1996.0</td>\n",
              "      <td>Fighting</td>\n",
              "      <td>Sony Computer Entertainment</td>\n",
              "      <td>0</td>\n",
              "      <td>0</td>\n",
              "      <td>0.16</td>\n",
              "      <td>0.01</td>\n",
              "    </tr>\n",
              "  </tbody>\n",
              "</table>\n",
              "<p>16598 rows × 10 columns</p>\n",
              "</div>"
            ],
            "text/plain": [
              "       Unnamed: 0  ... Other_Sales\n",
              "0               1  ...           0\n",
              "1               2  ...        0.01\n",
              "2               3  ...           0\n",
              "3               4  ...           0\n",
              "4               5  ...        0.04\n",
              "...           ...  ...         ...\n",
              "16593       16594  ...        0.01\n",
              "16594       16595  ...           0\n",
              "16595       16596  ...        0.13\n",
              "16596       16597  ...        0.03\n",
              "16597       16598  ...        0.01\n",
              "\n",
              "[16598 rows x 10 columns]"
            ]
          },
          "metadata": {
            "tags": []
          },
          "execution_count": 75
        }
      ]
    },
    {
      "cell_type": "code",
      "metadata": {
        "id": "hlHQr1s3vk43"
      },
      "source": [
        "df = df.drop(df.columns[0], axis=1) # 쓸데없는 column"
      ],
      "execution_count": 76,
      "outputs": []
    },
    {
      "cell_type": "code",
      "metadata": {
        "colab": {
          "base_uri": "https://localhost:8080/"
        },
        "id": "8S-uq_CKyV67",
        "outputId": "b89061d4-b9da-4f0a-e2c7-7f403ba0846e"
      },
      "source": [
        "df.info() #Name, Platform, Genre, Publisher 는 문자데이터. Sales는 왜 object인가?"
      ],
      "execution_count": 77,
      "outputs": [
        {
          "output_type": "stream",
          "text": [
            "<class 'pandas.core.frame.DataFrame'>\n",
            "RangeIndex: 16598 entries, 0 to 16597\n",
            "Data columns (total 9 columns):\n",
            " #   Column       Non-Null Count  Dtype  \n",
            "---  ------       --------------  -----  \n",
            " 0   Name         16598 non-null  object \n",
            " 1   Platform     16598 non-null  object \n",
            " 2   Year         16327 non-null  float64\n",
            " 3   Genre        16548 non-null  object \n",
            " 4   Publisher    16540 non-null  object \n",
            " 5   NA_Sales     16598 non-null  object \n",
            " 6   EU_Sales     16598 non-null  object \n",
            " 7   JP_Sales     16598 non-null  object \n",
            " 8   Other_Sales  16598 non-null  object \n",
            "dtypes: float64(1), object(8)\n",
            "memory usage: 1.1+ MB\n"
          ],
          "name": "stdout"
        }
      ]
    },
    {
      "cell_type": "code",
      "metadata": {
        "colab": {
          "base_uri": "https://localhost:8080/",
          "height": 419
        },
        "id": "qMFhzjjVoxCf",
        "outputId": "8ca9d187-36f6-4ce9-96d2-d12711a3c236"
      },
      "source": [
        "Sales = df[['NA_Sales','EU_Sales','JP_Sales','Other_Sales']]\n",
        "Sales"
      ],
      "execution_count": 78,
      "outputs": [
        {
          "output_type": "execute_result",
          "data": {
            "text/html": [
              "<div>\n",
              "<style scoped>\n",
              "    .dataframe tbody tr th:only-of-type {\n",
              "        vertical-align: middle;\n",
              "    }\n",
              "\n",
              "    .dataframe tbody tr th {\n",
              "        vertical-align: top;\n",
              "    }\n",
              "\n",
              "    .dataframe thead th {\n",
              "        text-align: right;\n",
              "    }\n",
              "</style>\n",
              "<table border=\"1\" class=\"dataframe\">\n",
              "  <thead>\n",
              "    <tr style=\"text-align: right;\">\n",
              "      <th></th>\n",
              "      <th>NA_Sales</th>\n",
              "      <th>EU_Sales</th>\n",
              "      <th>JP_Sales</th>\n",
              "      <th>Other_Sales</th>\n",
              "    </tr>\n",
              "  </thead>\n",
              "  <tbody>\n",
              "    <tr>\n",
              "      <th>0</th>\n",
              "      <td>0.04</td>\n",
              "      <td>0</td>\n",
              "      <td>0</td>\n",
              "      <td>0</td>\n",
              "    </tr>\n",
              "    <tr>\n",
              "      <th>1</th>\n",
              "      <td>0.17</td>\n",
              "      <td>0</td>\n",
              "      <td>0</td>\n",
              "      <td>0.01</td>\n",
              "    </tr>\n",
              "    <tr>\n",
              "      <th>2</th>\n",
              "      <td>0</td>\n",
              "      <td>0</td>\n",
              "      <td>0.02</td>\n",
              "      <td>0</td>\n",
              "    </tr>\n",
              "    <tr>\n",
              "      <th>3</th>\n",
              "      <td>0.04</td>\n",
              "      <td>0</td>\n",
              "      <td>0</td>\n",
              "      <td>0</td>\n",
              "    </tr>\n",
              "    <tr>\n",
              "      <th>4</th>\n",
              "      <td>0.12</td>\n",
              "      <td>0.09</td>\n",
              "      <td>0</td>\n",
              "      <td>0.04</td>\n",
              "    </tr>\n",
              "    <tr>\n",
              "      <th>...</th>\n",
              "      <td>...</td>\n",
              "      <td>...</td>\n",
              "      <td>...</td>\n",
              "      <td>...</td>\n",
              "    </tr>\n",
              "    <tr>\n",
              "      <th>16593</th>\n",
              "      <td>0.15</td>\n",
              "      <td>0.04</td>\n",
              "      <td>0</td>\n",
              "      <td>0.01</td>\n",
              "    </tr>\n",
              "    <tr>\n",
              "      <th>16594</th>\n",
              "      <td>0.01</td>\n",
              "      <td>0</td>\n",
              "      <td>0</td>\n",
              "      <td>0</td>\n",
              "    </tr>\n",
              "    <tr>\n",
              "      <th>16595</th>\n",
              "      <td>0.44</td>\n",
              "      <td>0.19</td>\n",
              "      <td>0.03</td>\n",
              "      <td>0.13</td>\n",
              "    </tr>\n",
              "    <tr>\n",
              "      <th>16596</th>\n",
              "      <td>0.05</td>\n",
              "      <td>0.05</td>\n",
              "      <td>0.25</td>\n",
              "      <td>0.03</td>\n",
              "    </tr>\n",
              "    <tr>\n",
              "      <th>16597</th>\n",
              "      <td>0</td>\n",
              "      <td>0</td>\n",
              "      <td>0.16</td>\n",
              "      <td>0.01</td>\n",
              "    </tr>\n",
              "  </tbody>\n",
              "</table>\n",
              "<p>16598 rows × 4 columns</p>\n",
              "</div>"
            ],
            "text/plain": [
              "      NA_Sales EU_Sales JP_Sales Other_Sales\n",
              "0         0.04        0        0           0\n",
              "1         0.17        0        0        0.01\n",
              "2            0        0     0.02           0\n",
              "3         0.04        0        0           0\n",
              "4         0.12     0.09        0        0.04\n",
              "...        ...      ...      ...         ...\n",
              "16593     0.15     0.04        0        0.01\n",
              "16594     0.01        0        0           0\n",
              "16595     0.44     0.19     0.03        0.13\n",
              "16596     0.05     0.05     0.25        0.03\n",
              "16597        0        0     0.16        0.01\n",
              "\n",
              "[16598 rows x 4 columns]"
            ]
          },
          "metadata": {
            "tags": []
          },
          "execution_count": 78
        }
      ]
    },
    {
      "cell_type": "code",
      "metadata": {
        "colab": {
          "base_uri": "https://localhost:8080/",
          "height": 483
        },
        "id": "_zta3imaMkTg",
        "outputId": "0275c97d-ed52-4a82-c949-506635fc01af"
      },
      "source": [
        "Sales = Sales.apply(lambda x: x.str.strip('M'), axis = 1) #기본적으로 Million 단위이니 M은 그냥 삭제\n",
        "Sales1 = Sales.apply(lambda x: x.str.replace('K','/1000')) # K는 /1000 으로 변경.\n",
        "Sales1[1:15]"
      ],
      "execution_count": 79,
      "outputs": [
        {
          "output_type": "execute_result",
          "data": {
            "text/html": [
              "<div>\n",
              "<style scoped>\n",
              "    .dataframe tbody tr th:only-of-type {\n",
              "        vertical-align: middle;\n",
              "    }\n",
              "\n",
              "    .dataframe tbody tr th {\n",
              "        vertical-align: top;\n",
              "    }\n",
              "\n",
              "    .dataframe thead th {\n",
              "        text-align: right;\n",
              "    }\n",
              "</style>\n",
              "<table border=\"1\" class=\"dataframe\">\n",
              "  <thead>\n",
              "    <tr style=\"text-align: right;\">\n",
              "      <th></th>\n",
              "      <th>NA_Sales</th>\n",
              "      <th>EU_Sales</th>\n",
              "      <th>JP_Sales</th>\n",
              "      <th>Other_Sales</th>\n",
              "    </tr>\n",
              "  </thead>\n",
              "  <tbody>\n",
              "    <tr>\n",
              "      <th>1</th>\n",
              "      <td>0.17</td>\n",
              "      <td>0</td>\n",
              "      <td>0</td>\n",
              "      <td>0.01</td>\n",
              "    </tr>\n",
              "    <tr>\n",
              "      <th>2</th>\n",
              "      <td>0</td>\n",
              "      <td>0</td>\n",
              "      <td>0.02</td>\n",
              "      <td>0</td>\n",
              "    </tr>\n",
              "    <tr>\n",
              "      <th>3</th>\n",
              "      <td>0.04</td>\n",
              "      <td>0</td>\n",
              "      <td>0</td>\n",
              "      <td>0</td>\n",
              "    </tr>\n",
              "    <tr>\n",
              "      <th>4</th>\n",
              "      <td>0.12</td>\n",
              "      <td>0.09</td>\n",
              "      <td>0</td>\n",
              "      <td>0.04</td>\n",
              "    </tr>\n",
              "    <tr>\n",
              "      <th>5</th>\n",
              "      <td>0</td>\n",
              "      <td>0</td>\n",
              "      <td>0.14</td>\n",
              "      <td>0</td>\n",
              "    </tr>\n",
              "    <tr>\n",
              "      <th>6</th>\n",
              "      <td>0.02</td>\n",
              "      <td>0.01</td>\n",
              "      <td>0</td>\n",
              "      <td>0</td>\n",
              "    </tr>\n",
              "    <tr>\n",
              "      <th>7</th>\n",
              "      <td>0.07</td>\n",
              "      <td>0</td>\n",
              "      <td>0.11</td>\n",
              "      <td>0.01</td>\n",
              "    </tr>\n",
              "    <tr>\n",
              "      <th>8</th>\n",
              "      <td>0</td>\n",
              "      <td>0</td>\n",
              "      <td>0.04</td>\n",
              "      <td>0</td>\n",
              "    </tr>\n",
              "    <tr>\n",
              "      <th>9</th>\n",
              "      <td>0.04</td>\n",
              "      <td>0.03</td>\n",
              "      <td>0</td>\n",
              "      <td>0.01</td>\n",
              "    </tr>\n",
              "    <tr>\n",
              "      <th>10</th>\n",
              "      <td>480/1000</td>\n",
              "      <td>0.33</td>\n",
              "      <td>0/1000</td>\n",
              "      <td>0.06</td>\n",
              "    </tr>\n",
              "    <tr>\n",
              "      <th>11</th>\n",
              "      <td>0.14</td>\n",
              "      <td>0.05</td>\n",
              "      <td>0</td>\n",
              "      <td>0</td>\n",
              "    </tr>\n",
              "    <tr>\n",
              "      <th>12</th>\n",
              "      <td>0</td>\n",
              "      <td>0.02</td>\n",
              "      <td>0</td>\n",
              "      <td>0</td>\n",
              "    </tr>\n",
              "    <tr>\n",
              "      <th>13</th>\n",
              "      <td>0.02</td>\n",
              "      <td>0</td>\n",
              "      <td>0</td>\n",
              "      <td>0</td>\n",
              "    </tr>\n",
              "    <tr>\n",
              "      <th>14</th>\n",
              "      <td>0</td>\n",
              "      <td>0</td>\n",
              "      <td>0.02</td>\n",
              "      <td>0</td>\n",
              "    </tr>\n",
              "  </tbody>\n",
              "</table>\n",
              "</div>"
            ],
            "text/plain": [
              "    NA_Sales EU_Sales JP_Sales Other_Sales\n",
              "1       0.17        0        0        0.01\n",
              "2          0        0     0.02           0\n",
              "3       0.04        0        0           0\n",
              "4       0.12     0.09        0        0.04\n",
              "5          0        0     0.14           0\n",
              "6       0.02     0.01        0           0\n",
              "7       0.07        0     0.11        0.01\n",
              "8          0        0     0.04           0\n",
              "9       0.04     0.03        0        0.01\n",
              "10  480/1000     0.33   0/1000        0.06\n",
              "11      0.14     0.05        0           0\n",
              "12         0     0.02        0           0\n",
              "13      0.02        0        0           0\n",
              "14         0        0     0.02           0"
            ]
          },
          "metadata": {
            "tags": []
          },
          "execution_count": 79
        }
      ]
    },
    {
      "cell_type": "code",
      "metadata": {
        "id": "BfRh58aI7PfQ"
      },
      "source": [
        "Sales1['NA_Sales'] = Sales1['NA_Sales'].apply(eval) #eval 함수로 문자열로 된 식을 실행.\n",
        "Sales1['EU_Sales'] = Sales1['EU_Sales'].apply(eval)\n",
        "Sales1['JP_Sales'] = Sales1['JP_Sales'].apply(eval)\n",
        "Sales1['Other_Sales'] = Sales1['Other_Sales'].apply(eval)"
      ],
      "execution_count": 80,
      "outputs": []
    },
    {
      "cell_type": "code",
      "metadata": {
        "colab": {
          "base_uri": "https://localhost:8080/"
        },
        "id": "-ltxukMP7vTu",
        "outputId": "d74932d3-641d-42e2-bc76-95cb6b90dce9"
      },
      "source": [
        "Sales1.info()"
      ],
      "execution_count": 81,
      "outputs": [
        {
          "output_type": "stream",
          "text": [
            "<class 'pandas.core.frame.DataFrame'>\n",
            "RangeIndex: 16598 entries, 0 to 16597\n",
            "Data columns (total 4 columns):\n",
            " #   Column       Non-Null Count  Dtype  \n",
            "---  ------       --------------  -----  \n",
            " 0   NA_Sales     16598 non-null  float64\n",
            " 1   EU_Sales     16598 non-null  float64\n",
            " 2   JP_Sales     16598 non-null  float64\n",
            " 3   Other_Sales  16598 non-null  float64\n",
            "dtypes: float64(4)\n",
            "memory usage: 518.8 KB\n"
          ],
          "name": "stdout"
        }
      ]
    },
    {
      "cell_type": "code",
      "metadata": {
        "colab": {
          "base_uri": "https://localhost:8080/",
          "height": 297
        },
        "id": "OB_rhmkZ8mCl",
        "outputId": "a1adeb8c-559d-4368-8e94-6263b5193ac7"
      },
      "source": [
        "Sales1.describe()"
      ],
      "execution_count": 82,
      "outputs": [
        {
          "output_type": "execute_result",
          "data": {
            "text/html": [
              "<div>\n",
              "<style scoped>\n",
              "    .dataframe tbody tr th:only-of-type {\n",
              "        vertical-align: middle;\n",
              "    }\n",
              "\n",
              "    .dataframe tbody tr th {\n",
              "        vertical-align: top;\n",
              "    }\n",
              "\n",
              "    .dataframe thead th {\n",
              "        text-align: right;\n",
              "    }\n",
              "</style>\n",
              "<table border=\"1\" class=\"dataframe\">\n",
              "  <thead>\n",
              "    <tr style=\"text-align: right;\">\n",
              "      <th></th>\n",
              "      <th>NA_Sales</th>\n",
              "      <th>EU_Sales</th>\n",
              "      <th>JP_Sales</th>\n",
              "      <th>Other_Sales</th>\n",
              "    </tr>\n",
              "  </thead>\n",
              "  <tbody>\n",
              "    <tr>\n",
              "      <th>count</th>\n",
              "      <td>16598.000000</td>\n",
              "      <td>16598.000000</td>\n",
              "      <td>16598.000000</td>\n",
              "      <td>16598.000000</td>\n",
              "    </tr>\n",
              "    <tr>\n",
              "      <th>mean</th>\n",
              "      <td>0.264667</td>\n",
              "      <td>0.146652</td>\n",
              "      <td>0.077782</td>\n",
              "      <td>0.048063</td>\n",
              "    </tr>\n",
              "    <tr>\n",
              "      <th>std</th>\n",
              "      <td>0.816683</td>\n",
              "      <td>0.505351</td>\n",
              "      <td>0.309291</td>\n",
              "      <td>0.188588</td>\n",
              "    </tr>\n",
              "    <tr>\n",
              "      <th>min</th>\n",
              "      <td>0.000000</td>\n",
              "      <td>0.000000</td>\n",
              "      <td>0.000000</td>\n",
              "      <td>0.000000</td>\n",
              "    </tr>\n",
              "    <tr>\n",
              "      <th>25%</th>\n",
              "      <td>0.000000</td>\n",
              "      <td>0.000000</td>\n",
              "      <td>0.000000</td>\n",
              "      <td>0.000000</td>\n",
              "    </tr>\n",
              "    <tr>\n",
              "      <th>50%</th>\n",
              "      <td>0.080000</td>\n",
              "      <td>0.020000</td>\n",
              "      <td>0.000000</td>\n",
              "      <td>0.010000</td>\n",
              "    </tr>\n",
              "    <tr>\n",
              "      <th>75%</th>\n",
              "      <td>0.240000</td>\n",
              "      <td>0.110000</td>\n",
              "      <td>0.040000</td>\n",
              "      <td>0.040000</td>\n",
              "    </tr>\n",
              "    <tr>\n",
              "      <th>max</th>\n",
              "      <td>41.490000</td>\n",
              "      <td>29.020000</td>\n",
              "      <td>10.220000</td>\n",
              "      <td>10.570000</td>\n",
              "    </tr>\n",
              "  </tbody>\n",
              "</table>\n",
              "</div>"
            ],
            "text/plain": [
              "           NA_Sales      EU_Sales      JP_Sales   Other_Sales\n",
              "count  16598.000000  16598.000000  16598.000000  16598.000000\n",
              "mean       0.264667      0.146652      0.077782      0.048063\n",
              "std        0.816683      0.505351      0.309291      0.188588\n",
              "min        0.000000      0.000000      0.000000      0.000000\n",
              "25%        0.000000      0.000000      0.000000      0.000000\n",
              "50%        0.080000      0.020000      0.000000      0.010000\n",
              "75%        0.240000      0.110000      0.040000      0.040000\n",
              "max       41.490000     29.020000     10.220000     10.570000"
            ]
          },
          "metadata": {
            "tags": []
          },
          "execution_count": 82
        }
      ]
    },
    {
      "cell_type": "code",
      "metadata": {
        "colab": {
          "base_uri": "https://localhost:8080/"
        },
        "id": "OWAAQaTfEmHq",
        "outputId": "f79fb87b-816e-4000-b2c7-2a46e6978609"
      },
      "source": [
        "for i in range(len(df['Year'])): #데이터가 21이하면 +2000을 해주고 22이상 100 미만이면 1900을 더해줌.\n",
        "  if df['Year'][i] <= 21:\n",
        "    df['Year'][i] = 2000 + df['Year'][i]\n",
        "  elif 22 <= df['Year'][i] < 100:\n",
        "    df['Year'][i] = 1900 + df['Year'][i]"
      ],
      "execution_count": 83,
      "outputs": [
        {
          "output_type": "stream",
          "text": [
            "/usr/local/lib/python3.7/dist-packages/ipykernel_launcher.py:3: SettingWithCopyWarning: \n",
            "A value is trying to be set on a copy of a slice from a DataFrame\n",
            "\n",
            "See the caveats in the documentation: https://pandas.pydata.org/pandas-docs/stable/user_guide/indexing.html#returning-a-view-versus-a-copy\n",
            "  This is separate from the ipykernel package so we can avoid doing imports until\n",
            "/usr/local/lib/python3.7/dist-packages/ipykernel_launcher.py:5: SettingWithCopyWarning: \n",
            "A value is trying to be set on a copy of a slice from a DataFrame\n",
            "\n",
            "See the caveats in the documentation: https://pandas.pydata.org/pandas-docs/stable/user_guide/indexing.html#returning-a-view-versus-a-copy\n",
            "  \"\"\"\n"
          ],
          "name": "stderr"
        }
      ]
    },
    {
      "cell_type": "code",
      "metadata": {
        "id": "NKW9FNkSkHvG"
      },
      "source": [
        "df = df.drop(columns=['NA_Sales','EU_Sales','JP_Sales','Other_Sales'])\n",
        "df = pd.concat([df,Sales1],axis=1)"
      ],
      "execution_count": 84,
      "outputs": []
    },
    {
      "cell_type": "code",
      "metadata": {
        "colab": {
          "base_uri": "https://localhost:8080/",
          "height": 470
        },
        "id": "XnFt5uO2URC0",
        "outputId": "018247b3-ddeb-4c40-b519-0ae42aad592f"
      },
      "source": [
        "df"
      ],
      "execution_count": 85,
      "outputs": [
        {
          "output_type": "execute_result",
          "data": {
            "text/html": [
              "<div>\n",
              "<style scoped>\n",
              "    .dataframe tbody tr th:only-of-type {\n",
              "        vertical-align: middle;\n",
              "    }\n",
              "\n",
              "    .dataframe tbody tr th {\n",
              "        vertical-align: top;\n",
              "    }\n",
              "\n",
              "    .dataframe thead th {\n",
              "        text-align: right;\n",
              "    }\n",
              "</style>\n",
              "<table border=\"1\" class=\"dataframe\">\n",
              "  <thead>\n",
              "    <tr style=\"text-align: right;\">\n",
              "      <th></th>\n",
              "      <th>Name</th>\n",
              "      <th>Platform</th>\n",
              "      <th>Year</th>\n",
              "      <th>Genre</th>\n",
              "      <th>Publisher</th>\n",
              "      <th>NA_Sales</th>\n",
              "      <th>EU_Sales</th>\n",
              "      <th>JP_Sales</th>\n",
              "      <th>Other_Sales</th>\n",
              "    </tr>\n",
              "  </thead>\n",
              "  <tbody>\n",
              "    <tr>\n",
              "      <th>0</th>\n",
              "      <td>Candace Kane's Candy Factory</td>\n",
              "      <td>DS</td>\n",
              "      <td>2008.0</td>\n",
              "      <td>Action</td>\n",
              "      <td>Destineer</td>\n",
              "      <td>0.04</td>\n",
              "      <td>0.00</td>\n",
              "      <td>0.00</td>\n",
              "      <td>0.00</td>\n",
              "    </tr>\n",
              "    <tr>\n",
              "      <th>1</th>\n",
              "      <td>The Munchables</td>\n",
              "      <td>Wii</td>\n",
              "      <td>2009.0</td>\n",
              "      <td>Action</td>\n",
              "      <td>Namco Bandai Games</td>\n",
              "      <td>0.17</td>\n",
              "      <td>0.00</td>\n",
              "      <td>0.00</td>\n",
              "      <td>0.01</td>\n",
              "    </tr>\n",
              "    <tr>\n",
              "      <th>2</th>\n",
              "      <td>Otome wa Oanesama Boku ni Koi Shiteru Portable</td>\n",
              "      <td>PSP</td>\n",
              "      <td>2010.0</td>\n",
              "      <td>Adventure</td>\n",
              "      <td>Alchemist</td>\n",
              "      <td>0.00</td>\n",
              "      <td>0.00</td>\n",
              "      <td>0.02</td>\n",
              "      <td>0.00</td>\n",
              "    </tr>\n",
              "    <tr>\n",
              "      <th>3</th>\n",
              "      <td>Deal or No Deal: Special Edition</td>\n",
              "      <td>DS</td>\n",
              "      <td>2010.0</td>\n",
              "      <td>Misc</td>\n",
              "      <td>Zoo Games</td>\n",
              "      <td>0.04</td>\n",
              "      <td>0.00</td>\n",
              "      <td>0.00</td>\n",
              "      <td>0.00</td>\n",
              "    </tr>\n",
              "    <tr>\n",
              "      <th>4</th>\n",
              "      <td>Ben 10 Ultimate Alien: Cosmic Destruction</td>\n",
              "      <td>PS3</td>\n",
              "      <td>2010.0</td>\n",
              "      <td>Platform</td>\n",
              "      <td>D3Publisher</td>\n",
              "      <td>0.12</td>\n",
              "      <td>0.09</td>\n",
              "      <td>0.00</td>\n",
              "      <td>0.04</td>\n",
              "    </tr>\n",
              "    <tr>\n",
              "      <th>...</th>\n",
              "      <td>...</td>\n",
              "      <td>...</td>\n",
              "      <td>...</td>\n",
              "      <td>...</td>\n",
              "      <td>...</td>\n",
              "      <td>...</td>\n",
              "      <td>...</td>\n",
              "      <td>...</td>\n",
              "      <td>...</td>\n",
              "    </tr>\n",
              "    <tr>\n",
              "      <th>16593</th>\n",
              "      <td>Ice Age 2: The Meltdown</td>\n",
              "      <td>GC</td>\n",
              "      <td>2006.0</td>\n",
              "      <td>Platform</td>\n",
              "      <td>Vivendi Games</td>\n",
              "      <td>0.15</td>\n",
              "      <td>0.04</td>\n",
              "      <td>0.00</td>\n",
              "      <td>0.01</td>\n",
              "    </tr>\n",
              "    <tr>\n",
              "      <th>16594</th>\n",
              "      <td>Rainbow Islands: Revolution</td>\n",
              "      <td>PSP</td>\n",
              "      <td>2005.0</td>\n",
              "      <td>Action</td>\n",
              "      <td>Rising Star Games</td>\n",
              "      <td>0.01</td>\n",
              "      <td>0.00</td>\n",
              "      <td>0.00</td>\n",
              "      <td>0.00</td>\n",
              "    </tr>\n",
              "    <tr>\n",
              "      <th>16595</th>\n",
              "      <td>NBA 2K16</td>\n",
              "      <td>PS3</td>\n",
              "      <td>2015.0</td>\n",
              "      <td>Sports</td>\n",
              "      <td>Take-Two Interactive</td>\n",
              "      <td>0.44</td>\n",
              "      <td>0.19</td>\n",
              "      <td>0.03</td>\n",
              "      <td>0.13</td>\n",
              "    </tr>\n",
              "    <tr>\n",
              "      <th>16596</th>\n",
              "      <td>Toukiden: The Age of Demons</td>\n",
              "      <td>PSV</td>\n",
              "      <td>2013.0</td>\n",
              "      <td>Action</td>\n",
              "      <td>Tecmo Koei</td>\n",
              "      <td>0.05</td>\n",
              "      <td>0.05</td>\n",
              "      <td>0.25</td>\n",
              "      <td>0.03</td>\n",
              "    </tr>\n",
              "    <tr>\n",
              "      <th>16597</th>\n",
              "      <td>The King of Fighters '95</td>\n",
              "      <td>PS</td>\n",
              "      <td>1996.0</td>\n",
              "      <td>Fighting</td>\n",
              "      <td>Sony Computer Entertainment</td>\n",
              "      <td>0.00</td>\n",
              "      <td>0.00</td>\n",
              "      <td>0.16</td>\n",
              "      <td>0.01</td>\n",
              "    </tr>\n",
              "  </tbody>\n",
              "</table>\n",
              "<p>16598 rows × 9 columns</p>\n",
              "</div>"
            ],
            "text/plain": [
              "                                                 Name  ... Other_Sales\n",
              "0                        Candace Kane's Candy Factory  ...        0.00\n",
              "1                                      The Munchables  ...        0.01\n",
              "2      Otome wa Oanesama Boku ni Koi Shiteru Portable  ...        0.00\n",
              "3                    Deal or No Deal: Special Edition  ...        0.00\n",
              "4           Ben 10 Ultimate Alien: Cosmic Destruction  ...        0.04\n",
              "...                                               ...  ...         ...\n",
              "16593                         Ice Age 2: The Meltdown  ...        0.01\n",
              "16594                     Rainbow Islands: Revolution  ...        0.00\n",
              "16595                                        NBA 2K16  ...        0.13\n",
              "16596                     Toukiden: The Age of Demons  ...        0.03\n",
              "16597                        The King of Fighters '95  ...        0.01\n",
              "\n",
              "[16598 rows x 9 columns]"
            ]
          },
          "metadata": {
            "tags": []
          },
          "execution_count": 85
        }
      ]
    },
    {
      "cell_type": "code",
      "metadata": {
        "id": "eAUReh0RRjv6"
      },
      "source": [
        "df = df.drop_duplicates() #혹시 모를 중복값 삭제. Parameter를 지정해주지 않으면 모든 열을 기준으로 중복된 결과를 삭제해줌.\n",
        "df = df.fillna(method='pad') #결측치를 한 값으로 몰리지 않고 비교적 다양하게 분포시키기 위해 앞에 있는 데이터를 복사함으로써 비교적 골고루 퍼뜨릴 수 있게 결측치 대체."
      ],
      "execution_count": 86,
      "outputs": []
    },
    {
      "cell_type": "code",
      "metadata": {
        "colab": {
          "base_uri": "https://localhost:8080/"
        },
        "id": "5ssO4OygbEeU",
        "outputId": "74a7e451-fa2a-4e7e-e4cf-5868c1bb3e7a"
      },
      "source": [
        "df.info()"
      ],
      "execution_count": 87,
      "outputs": [
        {
          "output_type": "stream",
          "text": [
            "<class 'pandas.core.frame.DataFrame'>\n",
            "Int64Index: 16597 entries, 0 to 16597\n",
            "Data columns (total 9 columns):\n",
            " #   Column       Non-Null Count  Dtype  \n",
            "---  ------       --------------  -----  \n",
            " 0   Name         16597 non-null  object \n",
            " 1   Platform     16597 non-null  object \n",
            " 2   Year         16597 non-null  float64\n",
            " 3   Genre        16597 non-null  object \n",
            " 4   Publisher    16597 non-null  object \n",
            " 5   NA_Sales     16597 non-null  float64\n",
            " 6   EU_Sales     16597 non-null  float64\n",
            " 7   JP_Sales     16597 non-null  float64\n",
            " 8   Other_Sales  16597 non-null  float64\n",
            "dtypes: float64(5), object(4)\n",
            "memory usage: 1.3+ MB\n"
          ],
          "name": "stdout"
        }
      ]
    },
    {
      "cell_type": "code",
      "metadata": {
        "id": "ouGOztF7TkNI"
      },
      "source": [
        "df['World_Sales'] = df['NA_Sales'] + df['EU_Sales'] + df['JP_Sales'] + df['Other_Sales'] #전세계의 출고량\n",
        "df['World_Sales'].head()\n",
        "df['Count'] = 1 #후에 카운트를 계산하기 위해 카운트 feature를 추가"
      ],
      "execution_count": 88,
      "outputs": []
    },
    {
      "cell_type": "code",
      "metadata": {
        "colab": {
          "base_uri": "https://localhost:8080/",
          "height": 613
        },
        "id": "eC7py3q7dLo0",
        "outputId": "901b90f3-58a4-4048-88e8-81a9731b4b36"
      },
      "source": [
        "import matplotlib.pyplot as plt\n",
        "import seaborn as sns\n",
        "\n",
        "fig = plt.figure(figsize=(4, 10))\n",
        "sns.heatmap(df.corr()[['World_Sales']], annot=True)"
      ],
      "execution_count": 89,
      "outputs": [
        {
          "output_type": "execute_result",
          "data": {
            "text/plain": [
              "<matplotlib.axes._subplots.AxesSubplot at 0x7f4416808750>"
            ]
          },
          "metadata": {
            "tags": []
          },
          "execution_count": 89
        },
        {
          "output_type": "display_data",
          "data": {
            "image/png": "[encoded data removed]",
            "text/plain": [
              "<Figure size 288x720 with 2 Axes>"
            ]
          },
          "metadata": {
            "tags": [],
            "needs_background": "light"
          }
        }
      ]
    },
    {
      "cell_type": "code",
      "metadata": {
        "colab": {
          "base_uri": "https://localhost:8080/",
          "height": 306
        },
        "id": "ddiyQqSykmO0",
        "outputId": "8c126b93-894f-4016-dd24-134141c74e56"
      },
      "source": [
        "df.head()"
      ],
      "execution_count": 90,
      "outputs": [
        {
          "output_type": "execute_result",
          "data": {
            "text/html": [
              "<div>\n",
              "<style scoped>\n",
              "    .dataframe tbody tr th:only-of-type {\n",
              "        vertical-align: middle;\n",
              "    }\n",
              "\n",
              "    .dataframe tbody tr th {\n",
              "        vertical-align: top;\n",
              "    }\n",
              "\n",
              "    .dataframe thead th {\n",
              "        text-align: right;\n",
              "    }\n",
              "</style>\n",
              "<table border=\"1\" class=\"dataframe\">\n",
              "  <thead>\n",
              "    <tr style=\"text-align: right;\">\n",
              "      <th></th>\n",
              "      <th>Name</th>\n",
              "      <th>Platform</th>\n",
              "      <th>Year</th>\n",
              "      <th>Genre</th>\n",
              "      <th>Publisher</th>\n",
              "      <th>NA_Sales</th>\n",
              "      <th>EU_Sales</th>\n",
              "      <th>JP_Sales</th>\n",
              "      <th>Other_Sales</th>\n",
              "      <th>World_Sales</th>\n",
              "      <th>Count</th>\n",
              "    </tr>\n",
              "  </thead>\n",
              "  <tbody>\n",
              "    <tr>\n",
              "      <th>0</th>\n",
              "      <td>Candace Kane's Candy Factory</td>\n",
              "      <td>DS</td>\n",
              "      <td>2008.0</td>\n",
              "      <td>Action</td>\n",
              "      <td>Destineer</td>\n",
              "      <td>0.04</td>\n",
              "      <td>0.00</td>\n",
              "      <td>0.00</td>\n",
              "      <td>0.00</td>\n",
              "      <td>0.04</td>\n",
              "      <td>1</td>\n",
              "    </tr>\n",
              "    <tr>\n",
              "      <th>1</th>\n",
              "      <td>The Munchables</td>\n",
              "      <td>Wii</td>\n",
              "      <td>2009.0</td>\n",
              "      <td>Action</td>\n",
              "      <td>Namco Bandai Games</td>\n",
              "      <td>0.17</td>\n",
              "      <td>0.00</td>\n",
              "      <td>0.00</td>\n",
              "      <td>0.01</td>\n",
              "      <td>0.18</td>\n",
              "      <td>1</td>\n",
              "    </tr>\n",
              "    <tr>\n",
              "      <th>2</th>\n",
              "      <td>Otome wa Oanesama Boku ni Koi Shiteru Portable</td>\n",
              "      <td>PSP</td>\n",
              "      <td>2010.0</td>\n",
              "      <td>Adventure</td>\n",
              "      <td>Alchemist</td>\n",
              "      <td>0.00</td>\n",
              "      <td>0.00</td>\n",
              "      <td>0.02</td>\n",
              "      <td>0.00</td>\n",
              "      <td>0.02</td>\n",
              "      <td>1</td>\n",
              "    </tr>\n",
              "    <tr>\n",
              "      <th>3</th>\n",
              "      <td>Deal or No Deal: Special Edition</td>\n",
              "      <td>DS</td>\n",
              "      <td>2010.0</td>\n",
              "      <td>Misc</td>\n",
              "      <td>Zoo Games</td>\n",
              "      <td>0.04</td>\n",
              "      <td>0.00</td>\n",
              "      <td>0.00</td>\n",
              "      <td>0.00</td>\n",
              "      <td>0.04</td>\n",
              "      <td>1</td>\n",
              "    </tr>\n",
              "    <tr>\n",
              "      <th>4</th>\n",
              "      <td>Ben 10 Ultimate Alien: Cosmic Destruction</td>\n",
              "      <td>PS3</td>\n",
              "      <td>2010.0</td>\n",
              "      <td>Platform</td>\n",
              "      <td>D3Publisher</td>\n",
              "      <td>0.12</td>\n",
              "      <td>0.09</td>\n",
              "      <td>0.00</td>\n",
              "      <td>0.04</td>\n",
              "      <td>0.25</td>\n",
              "      <td>1</td>\n",
              "    </tr>\n",
              "  </tbody>\n",
              "</table>\n",
              "</div>"
            ],
            "text/plain": [
              "                                             Name Platform  ...  World_Sales Count\n",
              "0                    Candace Kane's Candy Factory       DS  ...         0.04     1\n",
              "1                                  The Munchables      Wii  ...         0.18     1\n",
              "2  Otome wa Oanesama Boku ni Koi Shiteru Portable      PSP  ...         0.02     1\n",
              "3                Deal or No Deal: Special Edition       DS  ...         0.04     1\n",
              "4       Ben 10 Ultimate Alien: Cosmic Destruction      PS3  ...         0.25     1\n",
              "\n",
              "[5 rows x 11 columns]"
            ]
          },
          "metadata": {
            "tags": []
          },
          "execution_count": 90
        }
      ]
    },
    {
      "cell_type": "code",
      "metadata": {
        "id": "Al-5-4276ifq"
      },
      "source": [
        "Genre_Sales = df.groupby('Genre').sum()['World_Sales'] #장르에 따른 세계 판매량.\n",
        "Publisher_Sales = df.groupby('Publisher').sum()['World_Sales'] #제작사에 따른 세계 판매량\n",
        "Platform_Sales = df.groupby('Platform').sum()['World_Sales'] #플랫폼에 따른 세계 판매량\n",
        "Genre_counts = df.groupby('Genre').count()['World_Sales'] #장르 마다의 게임 갯수 \n",
        "Publisher_counts = df.groupby('Publisher').count()['World_Sales'] #제작사 마다의 게임 갯수\n",
        "Platform_counts = df.groupby('Platform').count()['World_Sales'] #플랫폼 마다의 게임 갯수"
      ],
      "execution_count": 91,
      "outputs": []
    },
    {
      "cell_type": "code",
      "metadata": {
        "id": "j34cNF3txrkz"
      },
      "source": [
        " Genre_Sales = Genre_Sales.reset_index()\n",
        " Publisher_Sales = Publisher_Sales.reset_index()\n",
        " Platform_Sales = Platform_Sales.reset_index()\n",
        " Genre_counts = Genre_counts.reset_index()\n",
        " Publisher_counts = Publisher_counts.reset_index()\n",
        " Platform_counts = Platform_counts.reset_index()"
      ],
      "execution_count": 92,
      "outputs": []
    },
    {
      "cell_type": "code",
      "metadata": {
        "id": "PnO5kuly1gfO"
      },
      "source": [
        "Genre_Sales.sort_values(by=['Genre'],axis=0,inplace=True)\n",
        "Publisher_Sales.sort_values(by=['Publisher'],axis=0,inplace=True)\n",
        "Platform_Sales.sort_values(by=['Platform'],axis=0,inplace=True)\n",
        "Genre_counts.sort_values(by=['Genre'],axis=0,inplace=True)\n",
        "Publisher_counts.sort_values(by=['Publisher'],axis=0,inplace=True)\n",
        "Platform_counts.sort_values(by=['Platform'],axis=0,inplace=True)"
      ],
      "execution_count": 93,
      "outputs": []
    },
    {
      "cell_type": "code",
      "metadata": {
        "id": "21rzZk-yiSdm"
      },
      "source": [
        "Genre_Sales = Genre_Sales.merge(Genre_counts, how = 'inner', on = 'Genre')\n",
        "Publisher_Sales = Publisher_Sales.merge(Publisher_counts, how = 'inner', on = 'Publisher')\n",
        "Platform_Sales = Platform_Sales.merge(Platform_counts, how = 'inner', on = 'Platform')\n",
        "\n",
        "# Genre_Sales = Genre_Sales.reset_index()\n",
        "# Publisher_Sales = Publisher_Sales.reset_index()\n",
        "# Platform_Sales = Platform_Sales.reset_index()\n",
        "\n",
        "\n",
        "# Genre_Sales = pd.concat([Genre_counts, Genre_Sales],axis=1)\n",
        "# Publisher_Sales = pd.concat([Publisher_counts,Publisher_Sales],axis=1)\n",
        "# Platform_Sales = pd.concat([Platform_counts,Platform_Sales],axis=1)\n"
      ],
      "execution_count": 94,
      "outputs": []
    },
    {
      "cell_type": "code",
      "metadata": {
        "id": "FikyRJ4g2pgl"
      },
      "source": [
        "Genre_Sales.rename(columns= {'World_Sales_x': 'World_Sales','World_Sales_y':'Count'}, inplace = True)\n",
        "Publisher_Sales.rename(columns= {'World_Sales_x': 'World_Sales','World_Sales_y':'Count'}, inplace = True)\n",
        "Platform_Sales.rename(columns= {'World_Sales_x': 'World_Sales','World_Sales_y':'Count'}, inplace = True)"
      ],
      "execution_count": 95,
      "outputs": []
    },
    {
      "cell_type": "code",
      "metadata": {
        "colab": {
          "base_uri": "https://localhost:8080/",
          "height": 421
        },
        "id": "9V5I33lFjasO",
        "outputId": "8360b727-0fdd-4890-fc6d-4ade49912f28"
      },
      "source": [
        "Genre_Sales['Genre_Sales'] = Genre_Sales['World_Sales']/Genre_Sales['Count'] # 평균 출고량.\n",
        "Publisher_Sales['Publisher_Sales'] = Publisher_Sales['World_Sales']/Publisher_Sales['Count']\n",
        "Platform_Sales['Platform_Sales'] = Platform_Sales['World_Sales']/Platform_Sales['Count']\n",
        "Genre_Sales"
      ],
      "execution_count": 96,
      "outputs": [
        {
          "output_type": "execute_result",
          "data": {
            "text/html": [
              "<div>\n",
              "<style scoped>\n",
              "    .dataframe tbody tr th:only-of-type {\n",
              "        vertical-align: middle;\n",
              "    }\n",
              "\n",
              "    .dataframe tbody tr th {\n",
              "        vertical-align: top;\n",
              "    }\n",
              "\n",
              "    .dataframe thead th {\n",
              "        text-align: right;\n",
              "    }\n",
              "</style>\n",
              "<table border=\"1\" class=\"dataframe\">\n",
              "  <thead>\n",
              "    <tr style=\"text-align: right;\">\n",
              "      <th></th>\n",
              "      <th>Genre</th>\n",
              "      <th>World_Sales</th>\n",
              "      <th>Count</th>\n",
              "      <th>Genre_Sales</th>\n",
              "    </tr>\n",
              "  </thead>\n",
              "  <tbody>\n",
              "    <tr>\n",
              "      <th>0</th>\n",
              "      <td>Action</td>\n",
              "      <td>1750.87</td>\n",
              "      <td>3314</td>\n",
              "      <td>0.528325</td>\n",
              "    </tr>\n",
              "    <tr>\n",
              "      <th>1</th>\n",
              "      <td>Adventure</td>\n",
              "      <td>241.54</td>\n",
              "      <td>1283</td>\n",
              "      <td>0.188262</td>\n",
              "    </tr>\n",
              "    <tr>\n",
              "      <th>2</th>\n",
              "      <td>Fighting</td>\n",
              "      <td>449.85</td>\n",
              "      <td>850</td>\n",
              "      <td>0.529235</td>\n",
              "    </tr>\n",
              "    <tr>\n",
              "      <th>3</th>\n",
              "      <td>Misc</td>\n",
              "      <td>808.59</td>\n",
              "      <td>1738</td>\n",
              "      <td>0.465242</td>\n",
              "    </tr>\n",
              "    <tr>\n",
              "      <th>4</th>\n",
              "      <td>Platform</td>\n",
              "      <td>831.87</td>\n",
              "      <td>888</td>\n",
              "      <td>0.936791</td>\n",
              "    </tr>\n",
              "    <tr>\n",
              "      <th>5</th>\n",
              "      <td>Puzzle</td>\n",
              "      <td>244.61</td>\n",
              "      <td>580</td>\n",
              "      <td>0.421741</td>\n",
              "    </tr>\n",
              "    <tr>\n",
              "      <th>6</th>\n",
              "      <td>Racing</td>\n",
              "      <td>730.43</td>\n",
              "      <td>1246</td>\n",
              "      <td>0.586220</td>\n",
              "    </tr>\n",
              "    <tr>\n",
              "      <th>7</th>\n",
              "      <td>Role-Playing</td>\n",
              "      <td>905.13</td>\n",
              "      <td>1485</td>\n",
              "      <td>0.609515</td>\n",
              "    </tr>\n",
              "    <tr>\n",
              "      <th>8</th>\n",
              "      <td>Shooter</td>\n",
              "      <td>1039.99</td>\n",
              "      <td>1312</td>\n",
              "      <td>0.792675</td>\n",
              "    </tr>\n",
              "    <tr>\n",
              "      <th>9</th>\n",
              "      <td>Simulation</td>\n",
              "      <td>391.60</td>\n",
              "      <td>866</td>\n",
              "      <td>0.452194</td>\n",
              "    </tr>\n",
              "    <tr>\n",
              "      <th>10</th>\n",
              "      <td>Sports</td>\n",
              "      <td>1346.51</td>\n",
              "      <td>2355</td>\n",
              "      <td>0.571766</td>\n",
              "    </tr>\n",
              "    <tr>\n",
              "      <th>11</th>\n",
              "      <td>Strategy</td>\n",
              "      <td>174.84</td>\n",
              "      <td>680</td>\n",
              "      <td>0.257118</td>\n",
              "    </tr>\n",
              "  </tbody>\n",
              "</table>\n",
              "</div>"
            ],
            "text/plain": [
              "           Genre  World_Sales  Count  Genre_Sales\n",
              "0         Action      1750.87   3314     0.528325\n",
              "1      Adventure       241.54   1283     0.188262\n",
              "2       Fighting       449.85    850     0.529235\n",
              "3           Misc       808.59   1738     0.465242\n",
              "4       Platform       831.87    888     0.936791\n",
              "5         Puzzle       244.61    580     0.421741\n",
              "6         Racing       730.43   1246     0.586220\n",
              "7   Role-Playing       905.13   1485     0.609515\n",
              "8        Shooter      1039.99   1312     0.792675\n",
              "9     Simulation       391.60    866     0.452194\n",
              "10        Sports      1346.51   2355     0.571766\n",
              "11      Strategy       174.84    680     0.257118"
            ]
          },
          "metadata": {
            "tags": []
          },
          "execution_count": 96
        }
      ]
    },
    {
      "cell_type": "code",
      "metadata": {
        "id": "8-Slbxom4C9j"
      },
      "source": [
        "Genre_Sales.sort_values(by=['Genre_Sales'],axis=0,inplace=True,ascending=False)\n",
        "Publisher_Sales.sort_values(by=['Publisher_Sales'],axis=0,inplace=True,ascending=False)\n",
        "Platform_Sales.sort_values(by=['Platform_Sales'],axis=0,inplace=True,ascending=False)"
      ],
      "execution_count": 97,
      "outputs": []
    },
    {
      "cell_type": "code",
      "metadata": {
        "id": "HianhjeQ4LcL"
      },
      "source": [
        "Genre_Sales = Genre_Sales.reset_index()\n",
        "Genre_Sales = Genre_Sales.drop(Genre_Sales.columns[0], axis=1)\n",
        "Publisher_Sales = Publisher_Sales.reset_index()\n",
        "Publisher_Sales = Publisher_Sales.drop(Publisher_Sales.columns[0], axis=1)\n",
        "Platform_Sales = Platform_Sales.reset_index()\n",
        "Platform_Sales = Platform_Sales.drop(Platform_Sales.columns[0], axis=1)"
      ],
      "execution_count": 98,
      "outputs": []
    },
    {
      "cell_type": "code",
      "metadata": {
        "id": "vFSWDaoO5qH0"
      },
      "source": [
        "Genre_Sales_chi = Genre_Sales.drop(columns=['Genre','World_Sales'])\n",
        "Publisher_Sales_chi = Publisher_Sales.drop(columns=['Publisher','World_Sales'])\n",
        "Platform_Sales_chi = Platform_Sales.drop(columns=['Platform','World_Sales'])"
      ],
      "execution_count": 110,
      "outputs": []
    },
    {
      "cell_type": "code",
      "metadata": {
        "colab": {
          "base_uri": "https://localhost:8080/"
        },
        "id": "HabAz_i7hMKn",
        "outputId": "85f04372-3483-4650-a32e-c3c9e2379ca2"
      },
      "source": [
        "from scipy.stats import chi2_contingency #p-value가 0.996으로 각 장르의 게임 출시량과 게임 하나당 판매량은 서로 연관이 없다.\n",
        "chi2 = chi2_contingency(Genre_Sales_chi, correction = False)\n",
        "chi2[1]"
      ],
      "execution_count": 113,
      "outputs": [
        {
          "output_type": "execute_result",
          "data": {
            "text/plain": [
              "0.9965331680007778"
            ]
          },
          "metadata": {
            "tags": []
          },
          "execution_count": 113
        }
      ]
    },
    {
      "cell_type": "code",
      "metadata": {
        "colab": {
          "base_uri": "https://localhost:8080/"
        },
        "id": "-p2Yl_sLk-SS",
        "outputId": "6b203561-08f4-4bae-ca7a-371edbf846bd"
      },
      "source": [
        "chi2 = chi2_contingency(Publisher_Sales_chi, correction = False) #제작사의 게임 제작량과 게임 당 판매량은 서로 연관이 있다.\n",
        "chi2[1]"
      ],
      "execution_count": 114,
      "outputs": [
        {
          "output_type": "execute_result",
          "data": {
            "text/plain": [
              "0.0"
            ]
          },
          "metadata": {
            "tags": []
          },
          "execution_count": 114
        }
      ]
    },
    {
      "cell_type": "code",
      "metadata": {
        "colab": {
          "base_uri": "https://localhost:8080/"
        },
        "id": "89nYP2X3k-8B",
        "outputId": "a20f0c78-98de-4ebb-c281-a68cdd4f16b4"
      },
      "source": [
        "chi2 = chi2_contingency(Platform_Sales_chi, correction = False) #게임 플랫폼마다의 게임 출시량과 게임 당 판매량은 서로 연관이 없다.\n",
        "chi2[1]"
      ],
      "execution_count": 115,
      "outputs": [
        {
          "output_type": "execute_result",
          "data": {
            "text/plain": [
              "3.7813406058975538e-25"
            ]
          },
          "metadata": {
            "tags": []
          },
          "execution_count": 115
        }
      ]
    },
    {
      "cell_type": "code",
      "metadata": {
        "id": "vSKNdYDufSUh"
      },
      "source": [
        "Publisher_Sales.sort_values(by=['Publisher_Sales'],axis=0,inplace=True,ascending=False)\n",
        "Platform_Sales.sort_values(by=['Platform_Sales'],axis=0,inplace=True,ascending=False)"
      ],
      "execution_count": 104,
      "outputs": []
    },
    {
      "cell_type": "code",
      "metadata": {
        "colab": {
          "base_uri": "https://localhost:8080/",
          "height": 421
        },
        "id": "sAV80hKiuZCW",
        "outputId": "d732674a-a084-42da-e78b-2f74dc57b8d6"
      },
      "source": [
        "Genre_Sales"
      ],
      "execution_count": 31,
      "outputs": [
        {
          "output_type": "execute_result",
          "data": {
            "text/html": [
              "<div>\n",
              "<style scoped>\n",
              "    .dataframe tbody tr th:only-of-type {\n",
              "        vertical-align: middle;\n",
              "    }\n",
              "\n",
              "    .dataframe tbody tr th {\n",
              "        vertical-align: top;\n",
              "    }\n",
              "\n",
              "    .dataframe thead th {\n",
              "        text-align: right;\n",
              "    }\n",
              "</style>\n",
              "<table border=\"1\" class=\"dataframe\">\n",
              "  <thead>\n",
              "    <tr style=\"text-align: right;\">\n",
              "      <th></th>\n",
              "      <th>Genre</th>\n",
              "      <th>World_Sales</th>\n",
              "      <th>Count</th>\n",
              "      <th>Genre_Sales</th>\n",
              "    </tr>\n",
              "  </thead>\n",
              "  <tbody>\n",
              "    <tr>\n",
              "      <th>0</th>\n",
              "      <td>Platform</td>\n",
              "      <td>831.87</td>\n",
              "      <td>888</td>\n",
              "      <td>0.936791</td>\n",
              "    </tr>\n",
              "    <tr>\n",
              "      <th>1</th>\n",
              "      <td>Shooter</td>\n",
              "      <td>1039.99</td>\n",
              "      <td>1312</td>\n",
              "      <td>0.792675</td>\n",
              "    </tr>\n",
              "    <tr>\n",
              "      <th>2</th>\n",
              "      <td>Role-Playing</td>\n",
              "      <td>905.13</td>\n",
              "      <td>1485</td>\n",
              "      <td>0.609515</td>\n",
              "    </tr>\n",
              "    <tr>\n",
              "      <th>3</th>\n",
              "      <td>Racing</td>\n",
              "      <td>730.43</td>\n",
              "      <td>1246</td>\n",
              "      <td>0.586220</td>\n",
              "    </tr>\n",
              "    <tr>\n",
              "      <th>4</th>\n",
              "      <td>Sports</td>\n",
              "      <td>1346.51</td>\n",
              "      <td>2355</td>\n",
              "      <td>0.571766</td>\n",
              "    </tr>\n",
              "    <tr>\n",
              "      <th>5</th>\n",
              "      <td>Fighting</td>\n",
              "      <td>449.85</td>\n",
              "      <td>850</td>\n",
              "      <td>0.529235</td>\n",
              "    </tr>\n",
              "    <tr>\n",
              "      <th>6</th>\n",
              "      <td>Action</td>\n",
              "      <td>1750.87</td>\n",
              "      <td>3314</td>\n",
              "      <td>0.528325</td>\n",
              "    </tr>\n",
              "    <tr>\n",
              "      <th>7</th>\n",
              "      <td>Misc</td>\n",
              "      <td>808.59</td>\n",
              "      <td>1738</td>\n",
              "      <td>0.465242</td>\n",
              "    </tr>\n",
              "    <tr>\n",
              "      <th>8</th>\n",
              "      <td>Simulation</td>\n",
              "      <td>391.60</td>\n",
              "      <td>866</td>\n",
              "      <td>0.452194</td>\n",
              "    </tr>\n",
              "    <tr>\n",
              "      <th>9</th>\n",
              "      <td>Puzzle</td>\n",
              "      <td>244.61</td>\n",
              "      <td>580</td>\n",
              "      <td>0.421741</td>\n",
              "    </tr>\n",
              "    <tr>\n",
              "      <th>10</th>\n",
              "      <td>Strategy</td>\n",
              "      <td>174.84</td>\n",
              "      <td>680</td>\n",
              "      <td>0.257118</td>\n",
              "    </tr>\n",
              "    <tr>\n",
              "      <th>11</th>\n",
              "      <td>Adventure</td>\n",
              "      <td>241.54</td>\n",
              "      <td>1283</td>\n",
              "      <td>0.188262</td>\n",
              "    </tr>\n",
              "  </tbody>\n",
              "</table>\n",
              "</div>"
            ],
            "text/plain": [
              "           Genre  World_Sales  Count  Genre_Sales\n",
              "0       Platform       831.87    888     0.936791\n",
              "1        Shooter      1039.99   1312     0.792675\n",
              "2   Role-Playing       905.13   1485     0.609515\n",
              "3         Racing       730.43   1246     0.586220\n",
              "4         Sports      1346.51   2355     0.571766\n",
              "5       Fighting       449.85    850     0.529235\n",
              "6         Action      1750.87   3314     0.528325\n",
              "7           Misc       808.59   1738     0.465242\n",
              "8     Simulation       391.60    866     0.452194\n",
              "9         Puzzle       244.61    580     0.421741\n",
              "10      Strategy       174.84    680     0.257118\n",
              "11     Adventure       241.54   1283     0.188262"
            ]
          },
          "metadata": {
            "tags": []
          },
          "execution_count": 31
        }
      ]
    },
    {
      "cell_type": "code",
      "metadata": {
        "colab": {
          "base_uri": "https://localhost:8080/",
          "height": 296
        },
        "id": "SAj1E0cVGg3a",
        "outputId": "62dda2dc-68b4-4f13-8699-2176993d6588"
      },
      "source": [
        "sns.scatterplot(x=\"Count\", y=\"Genre_Sales\", hue=\"Genre\", data=Genre_Sales)"
      ],
      "execution_count": 32,
      "outputs": [
        {
          "output_type": "execute_result",
          "data": {
            "text/plain": [
              "<matplotlib.axes._subplots.AxesSubplot at 0x7f4436315750>"
            ]
          },
          "metadata": {
            "tags": []
          },
          "execution_count": 32
        },
        {
          "output_type": "display_data",
          "data": {
            "image/png": "[encoded data removed]",
            "text/plain": [
              "<Figure size 432x288 with 1 Axes>"
            ]
          },
          "metadata": {
            "tags": [],
            "needs_background": "light"
          }
        }
      ]
    },
    {
      "cell_type": "code",
      "metadata": {
        "colab": {
          "base_uri": "https://localhost:8080/",
          "height": 419
        },
        "id": "euYd8jlh6E7H",
        "outputId": "deff9f9d-238e-41ee-b948-0be778051071"
      },
      "source": [
        "Publisher_Sales"
      ],
      "execution_count": 57,
      "outputs": [
        {
          "output_type": "execute_result",
          "data": {
            "text/html": [
              "<div>\n",
              "<style scoped>\n",
              "    .dataframe tbody tr th:only-of-type {\n",
              "        vertical-align: middle;\n",
              "    }\n",
              "\n",
              "    .dataframe tbody tr th {\n",
              "        vertical-align: top;\n",
              "    }\n",
              "\n",
              "    .dataframe thead th {\n",
              "        text-align: right;\n",
              "    }\n",
              "</style>\n",
              "<table border=\"1\" class=\"dataframe\">\n",
              "  <thead>\n",
              "    <tr style=\"text-align: right;\">\n",
              "      <th></th>\n",
              "      <th>Publisher</th>\n",
              "      <th>World_Sales</th>\n",
              "      <th>Count</th>\n",
              "      <th>Publisher_Sales</th>\n",
              "    </tr>\n",
              "  </thead>\n",
              "  <tbody>\n",
              "    <tr>\n",
              "      <th>0</th>\n",
              "      <td>Palcom</td>\n",
              "      <td>4.17</td>\n",
              "      <td>1</td>\n",
              "      <td>4.170000</td>\n",
              "    </tr>\n",
              "    <tr>\n",
              "      <th>1</th>\n",
              "      <td>Red Orb</td>\n",
              "      <td>5.25</td>\n",
              "      <td>2</td>\n",
              "      <td>2.625000</td>\n",
              "    </tr>\n",
              "    <tr>\n",
              "      <th>2</th>\n",
              "      <td>Nintendo</td>\n",
              "      <td>1786.80</td>\n",
              "      <td>705</td>\n",
              "      <td>2.534468</td>\n",
              "    </tr>\n",
              "    <tr>\n",
              "      <th>3</th>\n",
              "      <td>Arena Entertainment</td>\n",
              "      <td>4.72</td>\n",
              "      <td>2</td>\n",
              "      <td>2.360000</td>\n",
              "    </tr>\n",
              "    <tr>\n",
              "      <th>4</th>\n",
              "      <td>UEP Systems</td>\n",
              "      <td>2.26</td>\n",
              "      <td>1</td>\n",
              "      <td>2.260000</td>\n",
              "    </tr>\n",
              "    <tr>\n",
              "      <th>...</th>\n",
              "      <td>...</td>\n",
              "      <td>...</td>\n",
              "      <td>...</td>\n",
              "      <td>...</td>\n",
              "    </tr>\n",
              "    <tr>\n",
              "      <th>558</th>\n",
              "      <td>Piacci</td>\n",
              "      <td>0.01</td>\n",
              "      <td>1</td>\n",
              "      <td>0.010000</td>\n",
              "    </tr>\n",
              "    <tr>\n",
              "      <th>562</th>\n",
              "      <td>Naxat Soft</td>\n",
              "      <td>0.01</td>\n",
              "      <td>1</td>\n",
              "      <td>0.010000</td>\n",
              "    </tr>\n",
              "    <tr>\n",
              "      <th>571</th>\n",
              "      <td>Epic Games</td>\n",
              "      <td>0.01</td>\n",
              "      <td>1</td>\n",
              "      <td>0.010000</td>\n",
              "    </tr>\n",
              "    <tr>\n",
              "      <th>559</th>\n",
              "      <td>Nitroplus</td>\n",
              "      <td>0.02</td>\n",
              "      <td>2</td>\n",
              "      <td>0.010000</td>\n",
              "    </tr>\n",
              "    <tr>\n",
              "      <th>577</th>\n",
              "      <td>Lighthouse Interactive</td>\n",
              "      <td>0.01</td>\n",
              "      <td>1</td>\n",
              "      <td>0.010000</td>\n",
              "    </tr>\n",
              "  </tbody>\n",
              "</table>\n",
              "<p>578 rows × 4 columns</p>\n",
              "</div>"
            ],
            "text/plain": [
              "                  Publisher  World_Sales  Count  Publisher_Sales\n",
              "0                    Palcom         4.17      1         4.170000\n",
              "1                   Red Orb         5.25      2         2.625000\n",
              "2                  Nintendo      1786.80    705         2.534468\n",
              "3       Arena Entertainment         4.72      2         2.360000\n",
              "4               UEP Systems         2.26      1         2.260000\n",
              "..                      ...          ...    ...              ...\n",
              "558                  Piacci         0.01      1         0.010000\n",
              "562              Naxat Soft         0.01      1         0.010000\n",
              "571              Epic Games         0.01      1         0.010000\n",
              "559               Nitroplus         0.02      2         0.010000\n",
              "577  Lighthouse Interactive         0.01      1         0.010000\n",
              "\n",
              "[578 rows x 4 columns]"
            ]
          },
          "metadata": {
            "tags": []
          },
          "execution_count": 57
        }
      ]
    },
    {
      "cell_type": "code",
      "metadata": {
        "colab": {
          "base_uri": "https://localhost:8080/",
          "height": 450
        },
        "id": "epxHx5E9NJMM",
        "outputId": "67e40ec2-4ec6-421d-a9f9-c1fd8321b489"
      },
      "source": [
        "df_Platform = df[['Publisher','Platform','Genre','World_Sales','Count']]\n",
        "df_Platform = df_Platform.groupby(['Publisher','Platform','Genre'])\n",
        "df_Platform = df_Platform.sum()\n",
        "# df_Platform = df_Platform.reset_index()\n",
        "df_Platform['Genre_Sales'] = df_Platform['World_Sales'] / df_Platform['Count']\n",
        "df_Platform"
      ],
      "execution_count": 135,
      "outputs": [
        {
          "output_type": "execute_result",
          "data": {
            "text/html": [
              "<div>\n",
              "<style scoped>\n",
              "    .dataframe tbody tr th:only-of-type {\n",
              "        vertical-align: middle;\n",
              "    }\n",
              "\n",
              "    .dataframe tbody tr th {\n",
              "        vertical-align: top;\n",
              "    }\n",
              "\n",
              "    .dataframe thead th {\n",
              "        text-align: right;\n",
              "    }\n",
              "</style>\n",
              "<table border=\"1\" class=\"dataframe\">\n",
              "  <thead>\n",
              "    <tr style=\"text-align: right;\">\n",
              "      <th></th>\n",
              "      <th></th>\n",
              "      <th></th>\n",
              "      <th>World_Sales</th>\n",
              "      <th>Count</th>\n",
              "      <th>Genre_Sales</th>\n",
              "    </tr>\n",
              "    <tr>\n",
              "      <th>Publisher</th>\n",
              "      <th>Platform</th>\n",
              "      <th>Genre</th>\n",
              "      <th></th>\n",
              "      <th></th>\n",
              "      <th></th>\n",
              "    </tr>\n",
              "  </thead>\n",
              "  <tbody>\n",
              "    <tr>\n",
              "      <th rowspan=\"3\" valign=\"top\">10TACLE Studios</th>\n",
              "      <th rowspan=\"2\" valign=\"top\">DS</th>\n",
              "      <th>Puzzle</th>\n",
              "      <td>0.03</td>\n",
              "      <td>1</td>\n",
              "      <td>0.03</td>\n",
              "    </tr>\n",
              "    <tr>\n",
              "      <th>Strategy</th>\n",
              "      <td>0.06</td>\n",
              "      <td>1</td>\n",
              "      <td>0.06</td>\n",
              "    </tr>\n",
              "    <tr>\n",
              "      <th>PS2</th>\n",
              "      <th>Adventure</th>\n",
              "      <td>0.02</td>\n",
              "      <td>1</td>\n",
              "      <td>0.02</td>\n",
              "    </tr>\n",
              "    <tr>\n",
              "      <th rowspan=\"2\" valign=\"top\">1C Company</th>\n",
              "      <th rowspan=\"2\" valign=\"top\">PC</th>\n",
              "      <th>Racing</th>\n",
              "      <td>0.04</td>\n",
              "      <td>1</td>\n",
              "      <td>0.04</td>\n",
              "    </tr>\n",
              "    <tr>\n",
              "      <th>Role-Playing</th>\n",
              "      <td>0.01</td>\n",
              "      <td>1</td>\n",
              "      <td>0.01</td>\n",
              "    </tr>\n",
              "    <tr>\n",
              "      <th>...</th>\n",
              "      <th>...</th>\n",
              "      <th>...</th>\n",
              "      <td>...</td>\n",
              "      <td>...</td>\n",
              "      <td>...</td>\n",
              "    </tr>\n",
              "    <tr>\n",
              "      <th>imageepoch Inc.</th>\n",
              "      <th>3DS</th>\n",
              "      <th>Role-Playing</th>\n",
              "      <td>0.03</td>\n",
              "      <td>1</td>\n",
              "      <td>0.03</td>\n",
              "    </tr>\n",
              "    <tr>\n",
              "      <th>inXile Entertainment</th>\n",
              "      <th>PC</th>\n",
              "      <th>Role-Playing</th>\n",
              "      <td>0.09</td>\n",
              "      <td>1</td>\n",
              "      <td>0.09</td>\n",
              "    </tr>\n",
              "    <tr>\n",
              "      <th>mixi, Inc</th>\n",
              "      <th>3DS</th>\n",
              "      <th>Action</th>\n",
              "      <td>0.86</td>\n",
              "      <td>1</td>\n",
              "      <td>0.86</td>\n",
              "    </tr>\n",
              "    <tr>\n",
              "      <th rowspan=\"2\" valign=\"top\">responDESIGN</th>\n",
              "      <th>PS2</th>\n",
              "      <th>Sports</th>\n",
              "      <td>0.05</td>\n",
              "      <td>1</td>\n",
              "      <td>0.05</td>\n",
              "    </tr>\n",
              "    <tr>\n",
              "      <th>XB</th>\n",
              "      <th>Sports</th>\n",
              "      <td>0.09</td>\n",
              "      <td>1</td>\n",
              "      <td>0.09</td>\n",
              "    </tr>\n",
              "  </tbody>\n",
              "</table>\n",
              "<p>5061 rows × 3 columns</p>\n",
              "</div>"
            ],
            "text/plain": [
              "                                            World_Sales  Count  Genre_Sales\n",
              "Publisher            Platform Genre                                        \n",
              "10TACLE Studios      DS       Puzzle               0.03      1         0.03\n",
              "                              Strategy             0.06      1         0.06\n",
              "                     PS2      Adventure            0.02      1         0.02\n",
              "1C Company           PC       Racing               0.04      1         0.04\n",
              "                              Role-Playing         0.01      1         0.01\n",
              "...                                                 ...    ...          ...\n",
              "imageepoch Inc.      3DS      Role-Playing         0.03      1         0.03\n",
              "inXile Entertainment PC       Role-Playing         0.09      1         0.09\n",
              "mixi, Inc            3DS      Action               0.86      1         0.86\n",
              "responDESIGN         PS2      Sports               0.05      1         0.05\n",
              "                     XB       Sports               0.09      1         0.09\n",
              "\n",
              "[5061 rows x 3 columns]"
            ]
          },
          "metadata": {
            "tags": []
          },
          "execution_count": 135
        }
      ]
    },
    {
      "cell_type": "code",
      "metadata": {
        "id": "qscAoDIue2IA"
      },
      "source": [
        "df_Platform.sort_values(by=['Count'],axis=0,inplace=True,ascending=False)"
      ],
      "execution_count": 142,
      "outputs": []
    },
    {
      "cell_type": "code",
      "metadata": {
        "colab": {
          "base_uri": "https://localhost:8080/",
          "height": 450
        },
        "id": "tHof6ceqfMUh",
        "outputId": "023d6b2e-042b-4dc0-afa6-575e9c7f2925"
      },
      "source": [
        "df_Platform"
      ],
      "execution_count": 143,
      "outputs": [
        {
          "output_type": "execute_result",
          "data": {
            "text/html": [
              "<div>\n",
              "<style scoped>\n",
              "    .dataframe tbody tr th:only-of-type {\n",
              "        vertical-align: middle;\n",
              "    }\n",
              "\n",
              "    .dataframe tbody tr th {\n",
              "        vertical-align: top;\n",
              "    }\n",
              "\n",
              "    .dataframe thead th {\n",
              "        text-align: right;\n",
              "    }\n",
              "</style>\n",
              "<table border=\"1\" class=\"dataframe\">\n",
              "  <thead>\n",
              "    <tr style=\"text-align: right;\">\n",
              "      <th></th>\n",
              "      <th></th>\n",
              "      <th></th>\n",
              "      <th>World_Sales</th>\n",
              "      <th>Count</th>\n",
              "      <th>Genre_Sales</th>\n",
              "    </tr>\n",
              "    <tr>\n",
              "      <th>Publisher</th>\n",
              "      <th>Platform</th>\n",
              "      <th>Genre</th>\n",
              "      <th></th>\n",
              "      <th></th>\n",
              "      <th></th>\n",
              "    </tr>\n",
              "  </thead>\n",
              "  <tbody>\n",
              "    <tr>\n",
              "      <th rowspan=\"2\" valign=\"top\">Electronic Arts</th>\n",
              "      <th>PS2</th>\n",
              "      <th>Sports</th>\n",
              "      <td>133.74</td>\n",
              "      <td>102</td>\n",
              "      <td>1.311176</td>\n",
              "    </tr>\n",
              "    <tr>\n",
              "      <th>X360</th>\n",
              "      <th>Sports</th>\n",
              "      <td>75.88</td>\n",
              "      <td>74</td>\n",
              "      <td>1.025405</td>\n",
              "    </tr>\n",
              "    <tr>\n",
              "      <th>Konami Digital Entertainment</th>\n",
              "      <th>PS2</th>\n",
              "      <th>Sports</th>\n",
              "      <td>39.17</td>\n",
              "      <td>65</td>\n",
              "      <td>0.602615</td>\n",
              "    </tr>\n",
              "    <tr>\n",
              "      <th>Electronic Arts</th>\n",
              "      <th>PS3</th>\n",
              "      <th>Sports</th>\n",
              "      <td>77.83</td>\n",
              "      <td>65</td>\n",
              "      <td>1.197385</td>\n",
              "    </tr>\n",
              "    <tr>\n",
              "      <th>Ubisoft</th>\n",
              "      <th>DS</th>\n",
              "      <th>Simulation</th>\n",
              "      <td>30.81</td>\n",
              "      <td>65</td>\n",
              "      <td>0.474000</td>\n",
              "    </tr>\n",
              "    <tr>\n",
              "      <th>...</th>\n",
              "      <th>...</th>\n",
              "      <th>...</th>\n",
              "      <td>...</td>\n",
              "      <td>...</td>\n",
              "      <td>...</td>\n",
              "    </tr>\n",
              "    <tr>\n",
              "      <th>NEC Interchannel</th>\n",
              "      <th>SAT</th>\n",
              "      <th>Role-Playing</th>\n",
              "      <td>0.13</td>\n",
              "      <td>1</td>\n",
              "      <td>0.130000</td>\n",
              "    </tr>\n",
              "    <tr>\n",
              "      <th>DreamWorks Interactive</th>\n",
              "      <th>PS</th>\n",
              "      <th>Platform</th>\n",
              "      <td>0.13</td>\n",
              "      <td>1</td>\n",
              "      <td>0.130000</td>\n",
              "    </tr>\n",
              "    <tr>\n",
              "      <th>Atari</th>\n",
              "      <th>PS3</th>\n",
              "      <th>Shooter</th>\n",
              "      <td>0.13</td>\n",
              "      <td>1</td>\n",
              "      <td>0.130000</td>\n",
              "    </tr>\n",
              "    <tr>\n",
              "      <th>Spike</th>\n",
              "      <th>DS</th>\n",
              "      <th>Role-Playing</th>\n",
              "      <td>0.13</td>\n",
              "      <td>1</td>\n",
              "      <td>0.130000</td>\n",
              "    </tr>\n",
              "    <tr>\n",
              "      <th>Funbox Media</th>\n",
              "      <th>PSV</th>\n",
              "      <th>Strategy</th>\n",
              "      <td>0.01</td>\n",
              "      <td>1</td>\n",
              "      <td>0.010000</td>\n",
              "    </tr>\n",
              "  </tbody>\n",
              "</table>\n",
              "<p>5061 rows × 3 columns</p>\n",
              "</div>"
            ],
            "text/plain": [
              "                                                    World_Sales  ...  Genre_Sales\n",
              "Publisher                    Platform Genre                      ...             \n",
              "Electronic Arts              PS2      Sports             133.74  ...     1.311176\n",
              "                             X360     Sports              75.88  ...     1.025405\n",
              "Konami Digital Entertainment PS2      Sports              39.17  ...     0.602615\n",
              "Electronic Arts              PS3      Sports              77.83  ...     1.197385\n",
              "Ubisoft                      DS       Simulation          30.81  ...     0.474000\n",
              "...                                                         ...  ...          ...\n",
              "NEC Interchannel             SAT      Role-Playing         0.13  ...     0.130000\n",
              "DreamWorks Interactive       PS       Platform             0.13  ...     0.130000\n",
              "Atari                        PS3      Shooter              0.13  ...     0.130000\n",
              "Spike                        DS       Role-Playing         0.13  ...     0.130000\n",
              "Funbox Media                 PSV      Strategy             0.01  ...     0.010000\n",
              "\n",
              "[5061 rows x 3 columns]"
            ]
          },
          "metadata": {
            "tags": []
          },
          "execution_count": 143
        }
      ]
    },
    {
      "cell_type": "code",
      "metadata": {
        "colab": {
          "base_uri": "https://localhost:8080/",
          "height": 636
        },
        "id": "Q87rfV_pNsIY",
        "outputId": "d3dd938a-dcfe-4c2d-fb78-8a9c352bd10f"
      },
      "source": [
        "sns.lmplot(x=\"Year\", y=\"World_Sales\", col=\"Platform\", hue=\"Platform\", data=df_Platform,\n",
        "           col_wrap=8, ci=None, palette=\"muted\", height=2,\n",
        "           scatter_kws={\"s\": 25, \"alpha\": 0.5})"
      ],
      "execution_count": 48,
      "outputs": [
        {
          "output_type": "execute_result",
          "data": {
            "text/plain": [
              "<seaborn.axisgrid.FacetGrid at 0x7f4415d5e590>"
            ]
          },
          "metadata": {
            "tags": []
          },
          "execution_count": 48
        },
        {
          "output_type": "display_data",
          "data": {
            "image/png": "[encoded data removed]",
            "text/plain": [
              "<Figure size 1152x576 with 31 Axes>"
            ]
          },
          "metadata": {
            "tags": [],
            "needs_background": "light"
          }
        }
      ]
    },
    {
      "cell_type": "code",
      "metadata": {
        "colab": {
          "base_uri": "https://localhost:8080/",
          "height": 419
        },
        "id": "bZgvuMMQ23bM",
        "outputId": "17a40cc2-b331-42f5-a2cf-fc9396e04548"
      },
      "source": [
        "df_Year = df[['Year','Genre','World_Sales','Count']]\n",
        "df_Year = df_Year.groupby(['Year','Genre'])\n",
        "df_Year = df_Year.sum()\n",
        "df_Year = df_Year.reset_index()\n",
        "df_Year['Year_Sales'] = df_Year['World_Sales'] / df_Year['Count']\n",
        "df_Year"
      ],
      "execution_count": 35,
      "outputs": [
        {
          "output_type": "execute_result",
          "data": {
            "text/html": [
              "<div>\n",
              "<style scoped>\n",
              "    .dataframe tbody tr th:only-of-type {\n",
              "        vertical-align: middle;\n",
              "    }\n",
              "\n",
              "    .dataframe tbody tr th {\n",
              "        vertical-align: top;\n",
              "    }\n",
              "\n",
              "    .dataframe thead th {\n",
              "        text-align: right;\n",
              "    }\n",
              "</style>\n",
              "<table border=\"1\" class=\"dataframe\">\n",
              "  <thead>\n",
              "    <tr style=\"text-align: right;\">\n",
              "      <th></th>\n",
              "      <th>Year</th>\n",
              "      <th>Genre</th>\n",
              "      <th>World_Sales</th>\n",
              "      <th>Count</th>\n",
              "      <th>Year_Sales</th>\n",
              "    </tr>\n",
              "  </thead>\n",
              "  <tbody>\n",
              "    <tr>\n",
              "      <th>0</th>\n",
              "      <td>1980.0</td>\n",
              "      <td>Action</td>\n",
              "      <td>0.79</td>\n",
              "      <td>2</td>\n",
              "      <td>0.395</td>\n",
              "    </tr>\n",
              "    <tr>\n",
              "      <th>1</th>\n",
              "      <td>1980.0</td>\n",
              "      <td>Fighting</td>\n",
              "      <td>0.77</td>\n",
              "      <td>1</td>\n",
              "      <td>0.770</td>\n",
              "    </tr>\n",
              "    <tr>\n",
              "      <th>2</th>\n",
              "      <td>1980.0</td>\n",
              "      <td>Misc</td>\n",
              "      <td>2.70</td>\n",
              "      <td>4</td>\n",
              "      <td>0.675</td>\n",
              "    </tr>\n",
              "    <tr>\n",
              "      <th>3</th>\n",
              "      <td>1980.0</td>\n",
              "      <td>Platform</td>\n",
              "      <td>0.50</td>\n",
              "      <td>1</td>\n",
              "      <td>0.500</td>\n",
              "    </tr>\n",
              "    <tr>\n",
              "      <th>4</th>\n",
              "      <td>1980.0</td>\n",
              "      <td>Shooter</td>\n",
              "      <td>7.07</td>\n",
              "      <td>2</td>\n",
              "      <td>3.535</td>\n",
              "    </tr>\n",
              "    <tr>\n",
              "      <th>...</th>\n",
              "      <td>...</td>\n",
              "      <td>...</td>\n",
              "      <td>...</td>\n",
              "      <td>...</td>\n",
              "      <td>...</td>\n",
              "    </tr>\n",
              "    <tr>\n",
              "      <th>384</th>\n",
              "      <td>2016.0</td>\n",
              "      <td>Sports</td>\n",
              "      <td>14.63</td>\n",
              "      <td>38</td>\n",
              "      <td>0.385</td>\n",
              "    </tr>\n",
              "    <tr>\n",
              "      <th>385</th>\n",
              "      <td>2016.0</td>\n",
              "      <td>Strategy</td>\n",
              "      <td>0.52</td>\n",
              "      <td>10</td>\n",
              "      <td>0.052</td>\n",
              "    </tr>\n",
              "    <tr>\n",
              "      <th>386</th>\n",
              "      <td>2017.0</td>\n",
              "      <td>Action</td>\n",
              "      <td>0.01</td>\n",
              "      <td>1</td>\n",
              "      <td>0.010</td>\n",
              "    </tr>\n",
              "    <tr>\n",
              "      <th>387</th>\n",
              "      <td>2017.0</td>\n",
              "      <td>Role-Playing</td>\n",
              "      <td>0.04</td>\n",
              "      <td>2</td>\n",
              "      <td>0.020</td>\n",
              "    </tr>\n",
              "    <tr>\n",
              "      <th>388</th>\n",
              "      <td>2020.0</td>\n",
              "      <td>Simulation</td>\n",
              "      <td>0.29</td>\n",
              "      <td>1</td>\n",
              "      <td>0.290</td>\n",
              "    </tr>\n",
              "  </tbody>\n",
              "</table>\n",
              "<p>389 rows × 5 columns</p>\n",
              "</div>"
            ],
            "text/plain": [
              "       Year         Genre  World_Sales  Count  Year_Sales\n",
              "0    1980.0        Action         0.79      2       0.395\n",
              "1    1980.0      Fighting         0.77      1       0.770\n",
              "2    1980.0          Misc         2.70      4       0.675\n",
              "3    1980.0      Platform         0.50      1       0.500\n",
              "4    1980.0       Shooter         7.07      2       3.535\n",
              "..      ...           ...          ...    ...         ...\n",
              "384  2016.0        Sports        14.63     38       0.385\n",
              "385  2016.0      Strategy         0.52     10       0.052\n",
              "386  2017.0        Action         0.01      1       0.010\n",
              "387  2017.0  Role-Playing         0.04      2       0.020\n",
              "388  2020.0    Simulation         0.29      1       0.290\n",
              "\n",
              "[389 rows x 5 columns]"
            ]
          },
          "metadata": {
            "tags": []
          },
          "execution_count": 35
        }
      ]
    },
    {
      "cell_type": "code",
      "metadata": {
        "colab": {
          "base_uri": "https://localhost:8080/",
          "height": 452
        },
        "id": "oIFrlCB19n6m",
        "outputId": "278310a3-0376-453b-aff4-034385896f53"
      },
      "source": [
        "df_Genre = df[['Genre','NA_Sales','EU_Sales','JP_Sales','Other_Sales']]\n",
        "df_Genre = df_Genre.groupby(['Genre'])\n",
        "df_Genre = df_Genre.mean()\n",
        "df_Genre"
      ],
      "execution_count": 36,
      "outputs": [
        {
          "output_type": "execute_result",
          "data": {
            "text/html": [
              "<div>\n",
              "<style scoped>\n",
              "    .dataframe tbody tr th:only-of-type {\n",
              "        vertical-align: middle;\n",
              "    }\n",
              "\n",
              "    .dataframe tbody tr th {\n",
              "        vertical-align: top;\n",
              "    }\n",
              "\n",
              "    .dataframe thead th {\n",
              "        text-align: right;\n",
              "    }\n",
              "</style>\n",
              "<table border=\"1\" class=\"dataframe\">\n",
              "  <thead>\n",
              "    <tr style=\"text-align: right;\">\n",
              "      <th></th>\n",
              "      <th>NA_Sales</th>\n",
              "      <th>EU_Sales</th>\n",
              "      <th>JP_Sales</th>\n",
              "      <th>Other_Sales</th>\n",
              "    </tr>\n",
              "    <tr>\n",
              "      <th>Genre</th>\n",
              "      <th></th>\n",
              "      <th></th>\n",
              "      <th></th>\n",
              "      <th></th>\n",
              "    </tr>\n",
              "  </thead>\n",
              "  <tbody>\n",
              "    <tr>\n",
              "      <th>Action</th>\n",
              "      <td>0.265121</td>\n",
              "      <td>0.157993</td>\n",
              "      <td>0.048365</td>\n",
              "      <td>0.056847</td>\n",
              "    </tr>\n",
              "    <tr>\n",
              "      <th>Adventure</th>\n",
              "      <td>0.083546</td>\n",
              "      <td>0.050592</td>\n",
              "      <td>0.040701</td>\n",
              "      <td>0.013422</td>\n",
              "    </tr>\n",
              "    <tr>\n",
              "      <th>Fighting</th>\n",
              "      <td>0.263118</td>\n",
              "      <td>0.119376</td>\n",
              "      <td>0.103518</td>\n",
              "      <td>0.043224</td>\n",
              "    </tr>\n",
              "    <tr>\n",
              "      <th>Misc</th>\n",
              "      <td>0.235978</td>\n",
              "      <td>0.124264</td>\n",
              "      <td>0.062002</td>\n",
              "      <td>0.042998</td>\n",
              "    </tr>\n",
              "    <tr>\n",
              "      <th>Platform</th>\n",
              "      <td>0.503694</td>\n",
              "      <td>0.227658</td>\n",
              "      <td>0.147151</td>\n",
              "      <td>0.058288</td>\n",
              "    </tr>\n",
              "    <tr>\n",
              "      <th>Puzzle</th>\n",
              "      <td>0.213517</td>\n",
              "      <td>0.088034</td>\n",
              "      <td>0.098552</td>\n",
              "      <td>0.021638</td>\n",
              "    </tr>\n",
              "    <tr>\n",
              "      <th>Racing</th>\n",
              "      <td>0.287648</td>\n",
              "      <td>0.190634</td>\n",
              "      <td>0.045915</td>\n",
              "      <td>0.062022</td>\n",
              "    </tr>\n",
              "    <tr>\n",
              "      <th>Role-Playing</th>\n",
              "      <td>0.215212</td>\n",
              "      <td>0.123650</td>\n",
              "      <td>0.232290</td>\n",
              "      <td>0.038364</td>\n",
              "    </tr>\n",
              "    <tr>\n",
              "      <th>Shooter</th>\n",
              "      <td>0.445160</td>\n",
              "      <td>0.239040</td>\n",
              "      <td>0.029992</td>\n",
              "      <td>0.078483</td>\n",
              "    </tr>\n",
              "    <tr>\n",
              "      <th>Simulation</th>\n",
              "      <td>0.211339</td>\n",
              "      <td>0.130935</td>\n",
              "      <td>0.073557</td>\n",
              "      <td>0.036363</td>\n",
              "    </tr>\n",
              "    <tr>\n",
              "      <th>Sports</th>\n",
              "      <td>0.292348</td>\n",
              "      <td>0.161992</td>\n",
              "      <td>0.059554</td>\n",
              "      <td>0.057873</td>\n",
              "    </tr>\n",
              "    <tr>\n",
              "      <th>Strategy</th>\n",
              "      <td>0.101029</td>\n",
              "      <td>0.066647</td>\n",
              "      <td>0.072735</td>\n",
              "      <td>0.016706</td>\n",
              "    </tr>\n",
              "  </tbody>\n",
              "</table>\n",
              "</div>"
            ],
            "text/plain": [
              "              NA_Sales  EU_Sales  JP_Sales  Other_Sales\n",
              "Genre                                                  \n",
              "Action        0.265121  0.157993  0.048365     0.056847\n",
              "Adventure     0.083546  0.050592  0.040701     0.013422\n",
              "Fighting      0.263118  0.119376  0.103518     0.043224\n",
              "Misc          0.235978  0.124264  0.062002     0.042998\n",
              "Platform      0.503694  0.227658  0.147151     0.058288\n",
              "Puzzle        0.213517  0.088034  0.098552     0.021638\n",
              "Racing        0.287648  0.190634  0.045915     0.062022\n",
              "Role-Playing  0.215212  0.123650  0.232290     0.038364\n",
              "Shooter       0.445160  0.239040  0.029992     0.078483\n",
              "Simulation    0.211339  0.130935  0.073557     0.036363\n",
              "Sports        0.292348  0.161992  0.059554     0.057873\n",
              "Strategy      0.101029  0.066647  0.072735     0.016706"
            ]
          },
          "metadata": {
            "tags": []
          },
          "execution_count": 36
        }
      ]
    },
    {
      "cell_type": "code",
      "metadata": {
        "colab": {
          "base_uri": "https://localhost:8080/",
          "height": 400
        },
        "id": "O8R7_D-FfhCP",
        "outputId": "7550926d-d004-4a1d-ab1e-bd5d4e088479"
      },
      "source": [
        "import seaborn as sns\n",
        "\n",
        "sns.relplot(data = df_Year, x='Year', y='World_Sales', hue = 'Genre')"
      ],
      "execution_count": 37,
      "outputs": [
        {
          "output_type": "execute_result",
          "data": {
            "text/plain": [
              "<seaborn.axisgrid.FacetGrid at 0x7f4436de68d0>"
            ]
          },
          "metadata": {
            "tags": []
          },
          "execution_count": 37
        },
        {
          "output_type": "display_data",
          "data": {
            "image/png": "[encoded data removed]",
            "text/plain": [
              "<Figure size 457.5x360 with 1 Axes>"
            ]
          },
          "metadata": {
            "tags": [],
            "needs_background": "light"
          }
        }
      ]
    },
    {
      "cell_type": "code",
      "metadata": {
        "colab": {
          "base_uri": "https://localhost:8080/",
          "height": 623
        },
        "id": "Xd4w7V-ECkrM",
        "outputId": "3b56cb17-5a25-4b62-b4d9-49e53467173b"
      },
      "source": [
        "import matplotlib.pyplot as plt\n",
        "\n",
        "plt.figure(figsize=(12, 10)) \n",
        "sns.lineplot(data = df_Genre,palette=\"tab10\", linewidth=2.5)"
      ],
      "execution_count": 38,
      "outputs": [
        {
          "output_type": "execute_result",
          "data": {
            "text/plain": [
              "<matplotlib.axes._subplots.AxesSubplot at 0x7f4436e49710>"
            ]
          },
          "metadata": {
            "tags": []
          },
          "execution_count": 38
        },
        {
          "output_type": "display_data",
          "data": {
            "image/png": "[encoded data removed]",
            "text/plain": [
              "<Figure size 864x720 with 1 Axes>"
            ]
          },
          "metadata": {
            "tags": [],
            "needs_background": "light"
          }
        }
      ]
    },
    {
      "cell_type": "code",
      "metadata": {
        "colab": {
          "base_uri": "https://localhost:8080/",
          "height": 328
        },
        "id": "ydbFhkI9R5ik",
        "outputId": "db3e81ad-38f2-432b-a520-d455a2928206"
      },
      "source": [
        "sns.lmplot(x=\"Year\", y=\"Year_Sales\", col=\"Genre\", hue=\"Genre\", data=df_Year,\n",
        "           col_wrap=6, ci=None, palette=\"muted\", height=2,\n",
        "           scatter_kws={\"s\": 25, \"alpha\": 0.5})"
      ],
      "execution_count": 39,
      "outputs": [
        {
          "output_type": "execute_result",
          "data": {
            "text/plain": [
              "<seaborn.axisgrid.FacetGrid at 0x7f4436de6910>"
            ]
          },
          "metadata": {
            "tags": []
          },
          "execution_count": 39
        },
        {
          "output_type": "display_data",
          "data": {
            "image/png": "[encoded data removed]",
            "text/plain": [
              "<Figure size 864x288 with 12 Axes>"
            ]
          },
          "metadata": {
            "tags": [],
            "needs_background": "light"
          }
        }
      ]
    },
    {
      "cell_type": "code",
      "metadata": {
        "colab": {
          "base_uri": "https://localhost:8080/",
          "height": 328
        },
        "id": "nKewZfQ6yDgG",
        "outputId": "69ed8698-6722-4437-cada-23f9d141f7ab"
      },
      "source": [
        "sns.lmplot(x=\"Year\", y=\"Count\", col=\"Genre\", hue=\"Genre\", data=df_Year,\n",
        "           col_wrap=6, ci=None, palette=\"muted\", height=2,\n",
        "           scatter_kws={\"s\": 25, \"alpha\": 0.5})"
      ],
      "execution_count": 40,
      "outputs": [
        {
          "output_type": "execute_result",
          "data": {
            "text/plain": [
              "<seaborn.axisgrid.FacetGrid at 0x7f443702ce50>"
            ]
          },
          "metadata": {
            "tags": []
          },
          "execution_count": 40
        },
        {
          "output_type": "display_data",
          "data": {
            "image/png": "[encoded data removed]",
            "text/plain": [
              "<Figure size 864x288 with 12 Axes>"
            ]
          },
          "metadata": {
            "tags": [],
            "needs_background": "light"
          }
        }
      ]
    }
  ]
}